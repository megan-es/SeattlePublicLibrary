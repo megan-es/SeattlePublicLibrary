{
 "cells": [
  {
   "cell_type": "code",
   "execution_count": 11,
   "metadata": {},
   "outputs": [],
   "source": [
    "import pandas as pd\n",
    "import re\n",
    "import os"
   ]
  },
  {
   "cell_type": "code",
   "execution_count": 12,
   "metadata": {},
   "outputs": [
    {
     "name": "stderr",
     "output_type": "stream",
     "text": [
      "/var/folders/n9/nhw5lfp14pz9_5f7p9093sd80000gn/T/ipykernel_92299/178088492.py:3: DtypeWarning: Columns (7) have mixed types. Specify dtype option on import or set low_memory=False.\n",
      "  data = pd.read_csv(file_path).dropna()\n"
     ]
    }
   ],
   "source": [
    "# Load data\n",
    "file_path = '/Users/meganwagnersmith/Desktop/LibraryProject/LibraryData/Checkouts_by_Title_2022-2023_20241117.csv'\n",
    "data = pd.read_csv(file_path).dropna()"
   ]
  },
  {
   "cell_type": "code",
   "execution_count": 13,
   "metadata": {},
   "outputs": [],
   "source": [
    "# Clean ISBN to only include the first one if multiple\n",
    "def clean_isbn(isbn):\n",
    "    if pd.isna(isbn):\n",
    "        return None\n",
    "    return str(isbn).split(',')[0].strip()\n",
    "\n",
    "data['ISBN'] = data['ISBN'].apply(clean_isbn)"
   ]
  },
  {
   "cell_type": "code",
   "execution_count": 14,
   "metadata": {},
   "outputs": [],
   "source": [
    "# Combine CheckoutYear and CheckoutMonth into a single column\n",
    "data['CheckoutMonthYear'] = data['CheckoutYear'].astype(str) + '-' + data['CheckoutMonth'].astype(str).str.zfill(2)\n",
    "\n",
    "# Drop the original CheckoutYear and CheckoutMonth columns\n",
    "data = data.drop(columns=['CheckoutYear', 'CheckoutMonth'])"
   ]
  },
  {
   "cell_type": "code",
   "execution_count": 15,
   "metadata": {},
   "outputs": [],
   "source": [
    "# Clean publication year\n",
    "def clean_publication_year_extended(pub_year):\n",
    "    if pd.isna(pub_year):\n",
    "        return None\n",
    "    years = re.findall(r'\\d{4}', str(pub_year))\n",
    "    return int(min(years)) if years else None\n",
    "\n",
    "data['PublicationYear'] = data['PublicationYear'].apply(clean_publication_year_extended).astype('Int64')\n"
   ]
  },
  {
   "cell_type": "code",
   "execution_count": 16,
   "metadata": {},
   "outputs": [],
   "source": [
    "# Clean and standardize publisher\n",
    "def clean_publisher(publisher):\n",
    "    if pd.isna(publisher):\n",
    "        return None\n",
    "    publisher_cleaned = re.sub(r'[,\\.\\s]+$', '', publisher)  # Remove trailing commas, periods, or spaces\n",
    "    publisher_cleaned = re.sub(r'\\b(inc|ltd|llc|company|corp|co|publishers|press)\\b', '', publisher_cleaned, flags=re.IGNORECASE)\n",
    "    publisher_cleaned = re.sub(r'[^\\w\\s]', '', publisher_cleaned)  # Remove punctuation\n",
    "    return re.sub(r'\\s+', ' ', publisher_cleaned).strip().title()\n",
    "\n",
    "data['Publisher'] = data['Publisher'].apply(clean_publisher)"
   ]
  },
  {
   "cell_type": "code",
   "execution_count": 17,
   "metadata": {},
   "outputs": [],
   "source": [
    "# Process genres into a separate table\n",
    "def clean_and_split_subjects(subjects):\n",
    "    if pd.isna(subjects):\n",
    "        return None\n",
    "    return [genre.strip().lower() for genre in str(subjects).split(',')]\n",
    "\n",
    "data['CleanedSubjects'] = data['Subjects'].apply(clean_and_split_subjects)\n",
    "isbn_genres = data[['ISBN', 'CleanedSubjects']].explode('CleanedSubjects').dropna(subset=['CleanedSubjects'])\n",
    "isbn_genres = isbn_genres.rename(columns={'CleanedSubjects': 'Genre'})"
   ]
  },
  {
   "cell_type": "code",
   "execution_count": 18,
   "metadata": {},
   "outputs": [],
   "source": [
    "# Save genres table\n",
    "isbn_genres_file = '/Users/meganwagnersmith/Desktop/LibraryProject/LibraryData/isbn_genres.csv'\n",
    "isbn_genres.to_csv(isbn_genres_file, index=False)\n"
   ]
  },
  {
   "cell_type": "code",
   "execution_count": 19,
   "metadata": {},
   "outputs": [],
   "source": [
    "# Drop Subjects and CleanedSubjects from main data\n",
    "data = data.drop(columns=['Subjects', 'CleanedSubjects'])\n",
    "\n",
    "# Create ISBN table\n",
    "checkout_table = data[['ISBN', 'CheckoutMonthYear', 'Checkouts']].drop_duplicates()\n",
    "checkout_table_file = '/Users/meganwagnersmith/Desktop/LibraryProject/LibraryData/checkout_table.csv'\n",
    "checkout_table.to_csv(checkout_table_file, index=False)"
   ]
  },
  {
   "cell_type": "code",
   "execution_count": 20,
   "metadata": {},
   "outputs": [],
   "source": [
    "# Create Book Details table ensuring unique ISBNs\n",
    "book_details = data[['ISBN', 'Title', 'Creator', 'Publisher', 'PublicationYear']].drop_duplicates()\n",
    "book_details_unique = book_details.groupby('ISBN').first().reset_index()  # Ensure unique ISBNs\n",
    "book_details_unique = book_details_unique.rename(columns={'Creator': 'Author'})\n",
    "book_details_file = '/Users/meganwagnersmith/Desktop/LibraryProject/LibraryData/book_details.csv'\n",
    "book_details_unique.to_csv(book_details_file, index=False)"
   ]
  }
 ],
 "metadata": {
  "kernelspec": {
   "display_name": "Python 3",
   "language": "python",
   "name": "python3"
  },
  "language_info": {
   "codemirror_mode": {
    "name": "ipython",
    "version": 3
   },
   "file_extension": ".py",
   "mimetype": "text/x-python",
   "name": "python",
   "nbconvert_exporter": "python",
   "pygments_lexer": "ipython3",
   "version": "3.11.5"
  }
 },
 "nbformat": 4,
 "nbformat_minor": 2
}
