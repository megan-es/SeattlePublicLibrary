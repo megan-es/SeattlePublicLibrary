{
 "cells": [
  {
   "cell_type": "code",
   "execution_count": 11,
   "metadata": {},
   "outputs": [],
   "source": [
    "import pandas as pd\n",
    "import re\n",
    "import requests\n",
    "import dotenv\n",
    "import os"
   ]
  },
  {
   "cell_type": "code",
   "execution_count": null,
   "metadata": {},
   "outputs": [
    {
     "name": "stderr",
     "output_type": "stream",
     "text": [
      "/var/folders/n9/nhw5lfp14pz9_5f7p9093sd80000gn/T/ipykernel_47594/289178992.py:2: DtypeWarning: Columns (7) have mixed types. Specify dtype option on import or set low_memory=False.\n",
      "  data = pd.read_csv(file_path)\n"
     ]
    }
   ],
   "source": [
    "file_path = '/Users/meganwagnersmith/Desktop/LibraryProject/LibraryData/Checkouts_by_Title_2022-2023_20241117.csv'\n",
    "data = pd.read_csv(file_path)\n",
    "data=data.dropna()"
   ]
  },
  {
   "cell_type": "code",
   "execution_count": 13,
   "metadata": {},
   "outputs": [],
   "source": [
    "# Clean isbn to only include first isbn if multiple \n",
    "def clean_isbn(isbn):\n",
    "    if pd.isna(isbn):  # Handle missing values\n",
    "        return None\n",
    "    # Split multiple ISBNs and take the first one\n",
    "    isbn_cleaned = str(isbn).split(',')[0].strip()\n",
    "    return isbn_cleaned"
   ]
  },
  {
   "cell_type": "code",
   "execution_count": 14,
   "metadata": {},
   "outputs": [],
   "source": [
    "# Cleaning publication year\n",
    "def clean_publication_year_extended(pub_year):\n",
    "    if pd.isna(pub_year):  # Handle missing values\n",
    "        return None\n",
    "    # Extract all numbers that look like years (4 digits)\n",
    "    years = re.findall(r'\\d{4}', str(pub_year))\n",
    "    # Convert to integers and return the earliest year if available\n",
    "    return int(min(years)) if years else None\n"
   ]
  },
  {
   "cell_type": "code",
   "execution_count": 9,
   "metadata": {},
   "outputs": [],
   "source": [
    "# Clean the ISBN and PublicationYear columns\n",
    "data['ISBN'] = data['ISBN'].apply(clean_isbn)\n",
    "data['PublicationYear'] = data['PublicationYear'].apply(clean_publication_year_extended).astype('Int64')\n"
   ]
  },
  {
   "cell_type": "code",
   "execution_count": null,
   "metadata": {},
   "outputs": [],
   "source": [
    "# Save cleaned data to new csv file\n",
    "library_data_clean = '/Users/meganwagnersmith/Desktop/LibraryProject/LibraryData/library_data_clean.csv'\n",
    "data.to_csv(library_data_clean, index=False)"
   ]
  }
 ],
 "metadata": {
  "kernelspec": {
   "display_name": "Python 3",
   "language": "python",
   "name": "python3"
  },
  "language_info": {
   "codemirror_mode": {
    "name": "ipython",
    "version": 3
   },
   "file_extension": ".py",
   "mimetype": "text/x-python",
   "name": "python",
   "nbconvert_exporter": "python",
   "pygments_lexer": "ipython3",
   "version": "3.11.5"
  }
 },
 "nbformat": 4,
 "nbformat_minor": 2
}
